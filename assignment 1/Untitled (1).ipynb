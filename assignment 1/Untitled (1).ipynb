{
 "cells": [
  {
   "cell_type": "code",
   "execution_count": 2,
   "metadata": {},
   "outputs": [],
   "source": [
    "import numpy as np\n",
    "import pandas as pd\n",
    "from sklearn.model_selection import train_test_split\n",
    "from sklearn.neighbors import KNeighborsClassifier\n",
    "from sklearn.neighbors import KNeighborsRegressor\n",
    "\n",
    "from sklearn.metrics import mean_squared_error\n",
    "from sklearn.model_selection import StratifiedKFold\n",
    "from sklearn.model_selection import KFold\n",
    "import os\n",
    "import matplotlib.pyplot as plt"
   ]
  },
  {
   "cell_type": "code",
   "execution_count": 3,
   "metadata": {},
   "outputs": [
    {
     "data": {
      "text/html": [
       "<div>\n",
       "<style scoped>\n",
       "    .dataframe tbody tr th:only-of-type {\n",
       "        vertical-align: middle;\n",
       "    }\n",
       "\n",
       "    .dataframe tbody tr th {\n",
       "        vertical-align: top;\n",
       "    }\n",
       "\n",
       "    .dataframe thead th {\n",
       "        text-align: right;\n",
       "    }\n",
       "</style>\n",
       "<table border=\"1\" class=\"dataframe\">\n",
       "  <thead>\n",
       "    <tr style=\"text-align: right;\">\n",
       "      <th></th>\n",
       "      <th>listener</th>\n",
       "      <th>artist_name</th>\n",
       "      <th>album_name</th>\n",
       "      <th>song_name</th>\n",
       "      <th>artist_popularity</th>\n",
       "      <th>album_popularity</th>\n",
       "      <th>song_popularity</th>\n",
       "      <th>acousticness</th>\n",
       "      <th>danceability</th>\n",
       "      <th>energy</th>\n",
       "      <th>instrumentalness</th>\n",
       "      <th>liveness</th>\n",
       "      <th>loudness</th>\n",
       "      <th>speechiness</th>\n",
       "      <th>tempo</th>\n",
       "      <th>valence</th>\n",
       "    </tr>\n",
       "  </thead>\n",
       "  <tbody>\n",
       "    <tr>\n",
       "      <th>1</th>\n",
       "      <td>64</td>\n",
       "      <td>P!nk</td>\n",
       "      <td>Walk Me Home</td>\n",
       "      <td>Walk Me Home</td>\n",
       "      <td>88</td>\n",
       "      <td>77</td>\n",
       "      <td>86</td>\n",
       "      <td>0.0519</td>\n",
       "      <td>0.652</td>\n",
       "      <td>0.453</td>\n",
       "      <td>0.000000</td>\n",
       "      <td>0.1790</td>\n",
       "      <td>-6.119</td>\n",
       "      <td>0.0445</td>\n",
       "      <td>88.038</td>\n",
       "      <td>0.432</td>\n",
       "    </tr>\n",
       "    <tr>\n",
       "      <th>2</th>\n",
       "      <td>62</td>\n",
       "      <td>Belinda Carlisle</td>\n",
       "      <td>Greatest Vol.1 - Belinda Carlisle</td>\n",
       "      <td>Heaven Is a Place on Earth</td>\n",
       "      <td>65</td>\n",
       "      <td>64</td>\n",
       "      <td>71</td>\n",
       "      <td>0.0243</td>\n",
       "      <td>0.640</td>\n",
       "      <td>0.852</td>\n",
       "      <td>0.000002</td>\n",
       "      <td>0.0497</td>\n",
       "      <td>-8.119</td>\n",
       "      <td>0.0345</td>\n",
       "      <td>122.902</td>\n",
       "      <td>0.793</td>\n",
       "    </tr>\n",
       "    <tr>\n",
       "      <th>3</th>\n",
       "      <td>61</td>\n",
       "      <td>Travis</td>\n",
       "      <td>The Man Who</td>\n",
       "      <td>Why Does It Always Rain On Me?</td>\n",
       "      <td>63</td>\n",
       "      <td>49</td>\n",
       "      <td>57</td>\n",
       "      <td>0.0790</td>\n",
       "      <td>0.497</td>\n",
       "      <td>0.537</td>\n",
       "      <td>0.000139</td>\n",
       "      <td>0.0782</td>\n",
       "      <td>-9.264</td>\n",
       "      <td>0.0269</td>\n",
       "      <td>108.448</td>\n",
       "      <td>0.371</td>\n",
       "    </tr>\n",
       "    <tr>\n",
       "      <th>4</th>\n",
       "      <td>51</td>\n",
       "      <td>Freya Ridings</td>\n",
       "      <td>Castles</td>\n",
       "      <td>Castles</td>\n",
       "      <td>69</td>\n",
       "      <td>51</td>\n",
       "      <td>60</td>\n",
       "      <td>0.0046</td>\n",
       "      <td>0.672</td>\n",
       "      <td>0.752</td>\n",
       "      <td>0.000470</td>\n",
       "      <td>0.0560</td>\n",
       "      <td>-4.866</td>\n",
       "      <td>0.0843</td>\n",
       "      <td>116.945</td>\n",
       "      <td>0.429</td>\n",
       "    </tr>\n",
       "    <tr>\n",
       "      <th>5</th>\n",
       "      <td>53</td>\n",
       "      <td>Stephen Puth</td>\n",
       "      <td>Sexual Vibe</td>\n",
       "      <td>Sexual Vibe</td>\n",
       "      <td>56</td>\n",
       "      <td>54</td>\n",
       "      <td>63</td>\n",
       "      <td>0.0191</td>\n",
       "      <td>0.803</td>\n",
       "      <td>0.782</td>\n",
       "      <td>0.000005</td>\n",
       "      <td>0.1080</td>\n",
       "      <td>-3.873</td>\n",
       "      <td>0.0289</td>\n",
       "      <td>115.028</td>\n",
       "      <td>0.785</td>\n",
       "    </tr>\n",
       "  </tbody>\n",
       "</table>\n",
       "</div>"
      ],
      "text/plain": [
       "   listener       artist_name                         album_name  \\\n",
       "1        64              P!nk                       Walk Me Home   \n",
       "2        62  Belinda Carlisle  Greatest Vol.1 - Belinda Carlisle   \n",
       "3        61            Travis                        The Man Who   \n",
       "4        51     Freya Ridings                            Castles   \n",
       "5        53      Stephen Puth                        Sexual Vibe   \n",
       "\n",
       "                        song_name  artist_popularity  album_popularity  \\\n",
       "1                    Walk Me Home                 88                77   \n",
       "2      Heaven Is a Place on Earth                 65                64   \n",
       "3  Why Does It Always Rain On Me?                 63                49   \n",
       "4                         Castles                 69                51   \n",
       "5                     Sexual Vibe                 56                54   \n",
       "\n",
       "   song_popularity  acousticness  danceability  energy  instrumentalness  \\\n",
       "1               86        0.0519         0.652   0.453          0.000000   \n",
       "2               71        0.0243         0.640   0.852          0.000002   \n",
       "3               57        0.0790         0.497   0.537          0.000139   \n",
       "4               60        0.0046         0.672   0.752          0.000470   \n",
       "5               63        0.0191         0.803   0.782          0.000005   \n",
       "\n",
       "   liveness  loudness  speechiness    tempo  valence  \n",
       "1    0.1790    -6.119       0.0445   88.038    0.432  \n",
       "2    0.0497    -8.119       0.0345  122.902    0.793  \n",
       "3    0.0782    -9.264       0.0269  108.448    0.371  \n",
       "4    0.0560    -4.866       0.0843  116.945    0.429  \n",
       "5    0.1080    -3.873       0.0289  115.028    0.785  "
      ]
     },
     "execution_count": 3,
     "metadata": {},
     "output_type": "execute_result"
    }
   ],
   "source": [
    "cwd = os.path.abspath(os.curdir)\n",
    "filename = cwd + '//hw2_data.txt'\n",
    "original_data = pd.read_csv(filename, sep=\"\\t\", engine='python')\n",
    "data = original_data._get_numeric_data()\n",
    "original_data.head()\n",
    "# data.reindex(np.arange(data.shape[0]))"
   ]
  },
  {
   "cell_type": "markdown",
   "metadata": {},
   "source": [
    "Statistics"
   ]
  },
  {
   "cell_type": "code",
   "execution_count": 4,
   "metadata": {},
   "outputs": [
    {
     "data": {
      "text/html": [
       "<div>\n",
       "<style scoped>\n",
       "    .dataframe tbody tr th:only-of-type {\n",
       "        vertical-align: middle;\n",
       "    }\n",
       "\n",
       "    .dataframe tbody tr th {\n",
       "        vertical-align: top;\n",
       "    }\n",
       "\n",
       "    .dataframe thead th {\n",
       "        text-align: right;\n",
       "    }\n",
       "</style>\n",
       "<table border=\"1\" class=\"dataframe\">\n",
       "  <thead>\n",
       "    <tr style=\"text-align: right;\">\n",
       "      <th></th>\n",
       "      <th>Mean</th>\n",
       "    </tr>\n",
       "  </thead>\n",
       "  <tbody>\n",
       "    <tr>\n",
       "      <th>listener</th>\n",
       "      <td>38.244100</td>\n",
       "    </tr>\n",
       "    <tr>\n",
       "      <th>artist_popularity</th>\n",
       "      <td>65.706676</td>\n",
       "    </tr>\n",
       "    <tr>\n",
       "      <th>album_popularity</th>\n",
       "      <td>52.015509</td>\n",
       "    </tr>\n",
       "    <tr>\n",
       "      <th>song_popularity</th>\n",
       "      <td>51.881996</td>\n",
       "    </tr>\n",
       "    <tr>\n",
       "      <th>acousticness</th>\n",
       "      <td>0.196937</td>\n",
       "    </tr>\n",
       "  </tbody>\n",
       "</table>\n",
       "</div>"
      ],
      "text/plain": [
       "                        Mean\n",
       "listener           38.244100\n",
       "artist_popularity  65.706676\n",
       "album_popularity   52.015509\n",
       "song_popularity    51.881996\n",
       "acousticness        0.196937"
      ]
     },
     "execution_count": 4,
     "metadata": {},
     "output_type": "execute_result"
    }
   ],
   "source": [
    "data_mean = data.mean()\n",
    "data_var = data.var()\n",
    "kurtosis = data.kurtosis()\n",
    "skew = data.skew()\n",
    "# print(\"Mean values of the numerical feature are:\")\n",
    "# print(data_mean.head())\n",
    "# print(\"Variances of the numerical features are:\")\n",
    "# print(data_var.head())\n",
    "mean = pd.DataFrame(data_mean, columns = ['Mean'])\n",
    "var = pd.DataFrame(data_var, columns = ['Variance'])\n",
    "var.head()\n",
    "mean.head()\n",
    "# statistics = mean.insert(1,'Var',var) \n",
    "# plt.figure()\n",
    "# statistics.plot(kind='bar')\n",
    "# print(\"Kurtosis of the numerical features are:\")\n",
    "# print(kurtosis())\n",
    "# print(\"Skewness of the numerical features are:\")\n",
    "# print(skew())\n",
    "# print(data.shape)"
   ]
  },
  {
   "cell_type": "code",
   "execution_count": 5,
   "metadata": {},
   "outputs": [],
   "source": [
    "y = data.iloc[:,0:1] \n",
    "X = data.iloc[:,1:14] \n",
    "\n",
    "y = y.values.flatten()\n",
    "X = X.values\n",
    "\n",
    "X_train, X_test, y_train, y_test = train_test_split(X,\n",
    "                                                    y,\n",
    "                                                    test_size = 0.3,\n",
    "                                                    random_state = 1,\n",
    "                                                    stratify = None)\n",
    "\n",
    "KNN_classifier = KNeighborsRegressor(n_neighbors = 5,\n",
    "                                      weights = 'uniform',\n",
    "                                      algorithm = 'kd_tree',\n",
    "                                      leaf_size = 30,\n",
    "                                      p = 2,\n",
    "                                      metric = 'minkowski',\n",
    "                                      metric_params = None,\n",
    "                                      n_jobs = 1)"
   ]
  },
  {
   "cell_type": "code",
   "execution_count": 6,
   "metadata": {},
   "outputs": [],
   "source": [
    "KNN_classifier.fit(X_train, y_train)\n",
    "\n",
    "KNN_y_pred = KNN_classifier.predict(X_test)"
   ]
  },
  {
   "cell_type": "code",
   "execution_count": 7,
   "metadata": {},
   "outputs": [
    {
     "name": "stdout",
     "output_type": "stream",
     "text": [
      "Holdout prediction hit rate: 0.0\n",
      "Holdout prediction RMSE: 18.12345181299571\n",
      "Holdout prediction MAPE: 0.49765543188355554\n"
     ]
    }
   ],
   "source": [
    "KNN_y_pred_hit_rate = np.mean(y_test == KNN_y_pred)\n",
    "KNN_y_pred_rmse = ((((y_test - KNN_y_pred)**2).mean())**0.5)\n",
    "KNN_y_pred__mae =(np.absolute(y_test - KNN_y_pred)/y_test).mean()\n",
    "\n",
    "print(\"Holdout prediction hit rate:\", KNN_y_pred_hit_rate)\n",
    "print(\"Holdout prediction RMSE:\", KNN_y_pred_rmse)\n",
    "print(\"Holdout prediction MAPE:\", KNN_y_pred__mae)"
   ]
  },
  {
   "cell_type": "code",
   "execution_count": 8,
   "metadata": {},
   "outputs": [
    {
     "name": "stdout",
     "output_type": "stream",
     "text": [
      "Repeated holdout average hit rate: -0.18031661215157413\n",
      "Repeated holdout average RMSE: 18.880485576686446\n",
      "Repeated holdout average MAPE: 0.49078776612694014\n",
      "Resubstitution optimistic prediction accuracy: 0.21612507683622906\n"
     ]
    }
   ],
   "source": [
    "#Repeated holdout\n",
    "rng = np.random.RandomState(seed = 12345)\n",
    "seeds = np.arange(10*15);\n",
    "rng.shuffle(seeds);\n",
    "seeds = seeds[:50]\n",
    "\n",
    "accuracies_hit = []\n",
    "accuracies_rmse = []\n",
    "accuracies_mae = []\n",
    "\n",
    "for i in seeds:\n",
    "    X_train, X_test, y_train, y_test = train_test_split(X,\n",
    "                                                        y,\n",
    "                                                        test_size = 0.3,\n",
    "                                                        random_state = i,\n",
    "                                                        stratify = None)\n",
    "    KNN_classifier.fit(X_train, y_train)\n",
    "    KNN_y_pred_i__hit = KNN_classifier.score(X_test, y_test)\n",
    "    KNN_y_pred2 = KNN_classifier.predict(X_test)\n",
    "    KNN_y_pred_i__rmse = (((y_test - KNN_y_pred2)**2).mean())**0.5\n",
    "    KNN_y_pred_i__mae = (np.absolute(y_test - KNN_y_pred2)/y_test).mean()\n",
    "    \n",
    "    accuracies_hit.append(KNN_y_pred_i__hit)\n",
    "    accuracies_rmse.append(KNN_y_pred_i__rmse)\n",
    "    accuracies_mae.append(KNN_y_pred_i__mae)\n",
    "\n",
    "accuracies_hit = np.asarray(accuracies_hit)\n",
    "accuracies_rmse = np.asarray(accuracies_rmse)\n",
    "accuracies_mae = np.asarray(accuracies_mae)\n",
    "\n",
    "print(\"Repeated holdout average hit rate:\", accuracies_hit.mean())\n",
    "print(\"Repeated holdout average RMSE:\", accuracies_rmse.mean())\n",
    "print(\"Repeated holdout average MAPE:\", accuracies_mae.mean())\n",
    "\n",
    "KNN_classifier.fit(X,y)\n",
    "print (\"Resubstitution optimistic prediction accuracy:\", KNN_classifier.score(X,y))    \n",
    "\n"
   ]
  },
  {
   "cell_type": "code",
   "execution_count": 9,
   "metadata": {},
   "outputs": [
    {
     "name": "stdout",
     "output_type": "stream",
     "text": [
      "The best K chosen according to the minimum RMSE is: 8\n",
      "The best K chosen according to the minimum MAPE is: 8\n",
      "K-fold prediction RMSE of the best K chose by RMSE is : 16.42446042978098\n",
      "K-fold prediction MAE of the best K chose by MAPE is : 0.43482524882374796\n",
      "K-fold prediction RMSE of the best K chose by RMSE is : 16.42446042978098\n",
      "K-fold prediction MAE of the best K chose by MAE is : 0.43482524882374796\n"
     ]
    }
   ],
   "source": [
    "params = range(1,21)\n",
    "cv_acc_rmse, cv_acc_mae, cv_std_rmse, cv_std_mae, cv_stderr_rmse, cv_stderr_mae = [], [], [], [], [], []\n",
    "X_train, X_test, y_train, y_test = train_test_split(X,\n",
    "                                                    y,\n",
    "                                                    test_size = 0.3,\n",
    "                                                    random_state = 1,\n",
    "                                                    stratify = None)\n",
    "#cv = StratifiedKFold(n_splits = 5, shuffle = True, random_state = 1)\n",
    "cv = KFold(n_splits = 5, shuffle = True, random_state = 1)\n",
    "for c in params:\n",
    "    KNN_classifier = KNeighborsRegressor(n_neighbors = c,\n",
    "                                          weights = 'uniform',\n",
    "                                          algorithm = 'kd_tree',\n",
    "                                          leaf_size = 30,\n",
    "                                          p = 2,\n",
    "                                          metric = 'minkowski',\n",
    "                                          metric_params = None,\n",
    "                                          n_jobs = 1)\n",
    "    all_acc_rmse, all_acc_mae = [], []\n",
    "    for train_index, valid_index in cv.split(X_train, y_train):\n",
    "        pred = KNN_classifier.fit(X_train[train_index], y_train[train_index])\\\n",
    "               .predict(X_train[valid_index])\n",
    "        acc_rmse = (((y_train[valid_index] - pred)**2).mean())**0.5\n",
    "        acc_mae =(np.absolute(y_train[valid_index] - pred)/y_train[valid_index]).mean()\n",
    "        \n",
    "        all_acc_rmse.append(acc_rmse)\n",
    "        all_acc_mae.append(acc_mae)\n",
    "        \n",
    "    all_acc_rmse = np.array(all_acc_rmse)\n",
    "    all_acc_mae = np.array(all_acc_mae)\n",
    "    \n",
    "    y_pred_cv5_rmse_mean = all_acc_rmse.mean()\n",
    "    y_pred_cv5_rmse_std = all_acc_rmse.std()\n",
    "    y_pred_cv5_rmse_stderr = y_pred_cv5_rmse_std / np.sqrt(5)\n",
    "    y_pred_cv5_mae_mean = all_acc_mae.mean()\n",
    "    y_pred_cv5_mae_std = all_acc_mae.std()\n",
    "    y_pred_cv5_mae_stderr = y_pred_cv5_mae_std / np.sqrt(5)  \n",
    "    \n",
    "    cv_acc_rmse.append(y_pred_cv5_rmse_stderr)\n",
    "    cv_stderr_rmse.append(y_pred_cv5_rmse_stderr)\n",
    "    cv_acc_mae.append(y_pred_cv5_mae_stderr)\n",
    "    cv_stderr_mae.append(y_pred_cv5_mae_stderr)\n",
    "    \n",
    "best_k_rmse = np.argmin(cv_acc_rmse)\n",
    "best_k_mae = np.argmin(cv_acc_mae)\n",
    "\n",
    "print('The best K chosen according to the minimum RMSE is:', best_k_rmse+1)   \n",
    "print('The best K chosen according to the minimum MAPE is:', best_k_mae+1) \n",
    "\n",
    "KNN_classifier_rmse = KNeighborsRegressor(n_neighbors = params[best_k_rmse],\n",
    "                                     weights = 'uniform',\n",
    "                                     algorithm = 'kd_tree',\n",
    "                                     leaf_size = 30,\n",
    "                                     p = 2,\n",
    "                                     metric = 'minkowski',\n",
    "                                     metric_params = None,\n",
    "                                     n_jobs = 1)\n",
    "KNN_classifier_rmse.fit(X_train, y_train)\n",
    "KNN_rmse_pred_y = KNN_classifier_rmse.fit(X_train, y_train).predict(X_train)\n",
    "KNN_rmse_pred_rmse = (((KNN_rmse_pred_y-y_train)**2).mean())**0.5\n",
    "KNN_rmse_pred_mae = (np.absolute(KNN_rmse_pred_y-y_train)/y_train).mean()\n",
    "\n",
    "print('K-fold prediction RMSE of the best K chose by RMSE is :', KNN_rmse_pred_rmse)\n",
    "print('K-fold prediction MAE of the best K chose by MAPE is :', KNN_rmse_pred_mae)\n",
    "\n",
    "KNN_classifier_mae = KNeighborsRegressor(n_neighbors = params[best_k_mae],\n",
    "                                     weights = 'uniform',\n",
    "                                     algorithm = 'kd_tree',\n",
    "                                     leaf_size = 30,\n",
    "                                     p = 2,\n",
    "                                     metric = 'minkowski',\n",
    "                                     metric_params = None,\n",
    "                                     n_jobs = 1)\n",
    "KNN_classifier_mae.fit(X_train, y_train)\n",
    "KNN_mae_pred_y = KNN_classifier_mae.fit(X_train, y_train).predict(X_train)\n",
    "KNN_mae_pred_rmse = (((KNN_mae_pred_y-y_train)**2).mean())**0.5\n",
    "KNN_mae_pred_mae = (np.absolute(KNN_mae_pred_y-y_train)/y_train).mean()\n",
    "\n",
    "print('K-fold prediction RMSE of the best K chose by RMSE is :', KNN_mae_pred_rmse)\n",
    "print('K-fold prediction MAE of the best K chose by MAE is :', KNN_mae_pred_mae)"
   ]
  },
  {
   "cell_type": "code",
   "execution_count": 10,
   "metadata": {},
   "outputs": [],
   "source": [
    "cv_acc_rmse = pd.DataFrame(cv_acc_rmse,columns = ['RMSE']) \n",
    "cv_acc_mae = pd.DataFrame(cv_acc_mae,columns = ['MAE'])"
   ]
  },
  {
   "cell_type": "code",
   "execution_count": 11,
   "metadata": {},
   "outputs": [],
   "source": [
    "cv_acc = cv_acc_mae\n",
    "cv_acc.insert(1,'RMSE',cv_acc_rmse) \n",
    "cv_acc.index = range(1,len(cv_acc.index)+1)"
   ]
  },
  {
   "cell_type": "code",
   "execution_count": 12,
   "metadata": {},
   "outputs": [
    {
     "data": {
      "text/plain": [
       "<Figure size 432x288 with 0 Axes>"
      ]
     },
     "metadata": {},
     "output_type": "display_data"
    },
    {
     "data": {
      "image/png": "[encoded data removed]",
      "text/plain": [
       "<Figure size 432x288 with 1 Axes>"
      ]
     },
     "metadata": {
      "needs_background": "light"
     },
     "output_type": "display_data"
    }
   ],
   "source": [
    "plt.figure()\n",
    "cv_acc.plot()\n",
    "plt.xticks(range(1,21))\n",
    "plt.legend(loc='best')\n",
    "plt.show()"
   ]
  },
  {
   "cell_type": "code",
   "execution_count": 13,
   "metadata": {},
   "outputs": [
    {
     "name": "stdout",
     "output_type": "stream",
     "text": [
      "The best K chosen according to the minimum RMSE is: 2\n",
      "The best K chosen according to the minimum MAPE is: 2\n",
      "Repeated k-fold prediction RMSE of the best K chose by RMSE is : 12.400577632763897\n",
      "Repeated k-fold prediction MAE of the best K chose by RMSE is : 0.2996648015526256\n",
      "Repeated k-fold prediction RMSE of the best K chose by MAPE is : 12.400577632763897\n",
      "Repeated k-fold prediction MAE of the best K chose by MAPE is : 0.2996648015526256\n"
     ]
    }
   ],
   "source": [
    "params = range(1,21)\n",
    "rng = np.random.RandomState(seed = 12345);seeds = np.arange(10**5)\n",
    "rng.shuffle(seeds); seeds = seeds[:5]\n",
    "params_by_seed_rmse, params_by_seed_mae = [], []\n",
    "for seed in seeds:\n",
    "    #cv = StratifiedKFold(n_splits = 5, shuffle = True, random_state = seed)\n",
    "    cv = KFold(n_splits = 5, shuffle = True, random_state = seed)\n",
    "    acc_by_param_rmse, acc_by_param_mae = [], []\n",
    "    \n",
    "    for c in params:\n",
    "        \n",
    "        KNN_classifier = KNeighborsClassifier(n_neighbors = c, \n",
    "                                     weights = 'uniform',\n",
    "                                     algorithm = 'kd_tree',\n",
    "                                     leaf_size = 30,\n",
    "                                     p = 2,\n",
    "                                     metric = 'minkowski',\n",
    "                                     metric_params = None,\n",
    "                                     n_jobs = 1)\n",
    "        all_acc_rmse = []\n",
    "        all_acc_mae = []\n",
    "        \n",
    "        for train_index, valid_index in cv.split(X_train, y_train):\n",
    "            \n",
    "            pred = KNN_classifier.fit(X_train[train_index], y_train[train_index])\\\n",
    "                   .predict(X_train[valid_index])\n",
    "            acc_rmse =(((pred - y_train[valid_index])**2).mean())**0.5\n",
    "            acc_mae = (np.absolute(pred - y_train[valid_index])).mean()\n",
    "            all_acc_rmse.append(acc_rmse)\n",
    "            all_acc_mae.append(acc_mae)\n",
    "        \n",
    "        all_acc_rmse = np.array(all_acc_rmse)\n",
    "        all_acc_mae = np.array(all_acc_mae)\n",
    "        \n",
    "        acc_by_param_rmse.append(all_acc_rmse.mean())\n",
    "        acc_by_param_mae.append(all_acc_mae.mean())\n",
    "\n",
    "    params_by_seed_rmse.append(acc_by_param_rmse) \n",
    "    params_by_seed_mae.append(acc_by_param_mae)\n",
    "mean_params_by_seed_rmse = np.mean(params_by_seed_rmse,0)\n",
    "mean_params_by_seed_mae = np.mean(params_by_seed_mae,0)\n",
    "\n",
    "best_k_rmse = np.argmin(np.mean(params_by_seed_rmse,0))    \n",
    "best_k_mae = np.argmin(np.mean(params_by_seed_mae,0))    \n",
    "\n",
    "print('The best K chosen according to the minimum RMSE is:', best_k_rmse+1)\n",
    "print('The best K chosen according to the minimum MAPE is:', best_k_mae+1)\n",
    "\n",
    "KNN_classifier_rmse = KNeighborsRegressor(n_neighbors = params[best_k_rmse],\n",
    "                                     weights = 'uniform',\n",
    "                                     algorithm = 'kd_tree',\n",
    "                                     leaf_size = 30,\n",
    "                                     p = 2,\n",
    "                                     metric = 'minkowski',\n",
    "                                     metric_params = None,\n",
    "                                     n_jobs = 1)\n",
    "KNN_classifier_rmse.fit(X_train, y_train)\n",
    "KNN_rmse_pred_y = KNN_classifier_rmse.fit(X_train, y_train).predict(X_train)\n",
    "KNN_rmse_pred_rmse = (((KNN_rmse_pred_y-y_train)**2).mean())**0.5\n",
    "KNN_rmse_pred_mae = (np.absolute(KNN_rmse_pred_y-y_train)/y_train).mean()\n",
    "\n",
    "print('Repeated k-fold prediction RMSE of the best K chose by RMSE is :', KNN_rmse_pred_rmse)\n",
    "print('Repeated k-fold prediction MAE of the best K chose by RMSE is :', KNN_rmse_pred_mae)\n",
    "\n",
    "KNN_classifier_mae = KNeighborsRegressor(n_neighbors = params[best_k_mae],\n",
    "                                     weights = 'uniform',\n",
    "                                     algorithm = 'kd_tree',\n",
    "                                     leaf_size = 30,\n",
    "                                     p = 2,\n",
    "                                     metric = 'minkowski',\n",
    "                                     metric_params = None,\n",
    "                                     n_jobs = 1)\n",
    "KNN_classifier_mae.fit(X_train, y_train)\n",
    "KNN_mae_pred_y = KNN_classifier_mae.fit(X_train, y_train).predict(X_train)\n",
    "KNN_mae_pred_rmse = (((KNN_mae_pred_y-y_train)**2).mean())**0.5\n",
    "KNN_mae_pred_mae = (np.absolute(KNN_mae_pred_y-y_train)/y_train).mean()\n",
    "\n",
    "print('Repeated k-fold prediction RMSE of the best K chose by MAPE is :', KNN_mae_pred_rmse)\n",
    "print('Repeated k-fold prediction MAE of the best K chose by MAPE is :', KNN_mae_pred_mae)"
   ]
  },
  {
   "cell_type": "code",
   "execution_count": 95,
   "metadata": {},
   "outputs": [],
   "source": [
    "mean_repeated_k_fold_rmse = pd.DataFrame(mean_params_by_seed_rmse,columns = ['RMSE']) \n",
    "mean_repeated_k_fold_mae = pd.DataFrame(mean_params_by_seed_mae,columns = ['MAE'])"
   ]
  },
  {
   "cell_type": "code",
   "execution_count": 96,
   "metadata": {},
   "outputs": [],
   "source": [
    "mean_repeated_k_fold = mean_repeated_k_fold_rmse\n",
    "mean_repeated_k_fold.insert(1,'MAE',mean_repeated_k_fold_mae)\n",
    "mean_repeated_k_fold.index = range(1,len(mean_repeated_k_fold.index)+1)"
   ]
  },
  {
   "cell_type": "code",
   "execution_count": 97,
   "metadata": {},
   "outputs": [
    {
     "data": {
      "text/plain": [
       "<Figure size 432x288 with 0 Axes>"
      ]
     },
     "metadata": {},
     "output_type": "display_data"
    },
    {
     "data": {
      "image/png": "[encoded data removed]",
      "text/plain": [
       "<Figure size 432x288 with 1 Axes>"
      ]
     },
     "metadata": {
      "needs_background": "light"
     },
     "output_type": "display_data"
    }
   ],
   "source": [
    "plt.figure()\n",
    "mean_repeated_k_fold.plot()\n",
    "plt.xticks(mean_repeated_k_fold.index.values)\n",
    "plt.legend(loc='best')\n",
    "plt.show()"
   ]
  },
  {
   "cell_type": "code",
   "execution_count": null,
   "metadata": {},
   "outputs": [],
   "source": []
  },
  {
   "cell_type": "code",
   "execution_count": null,
   "metadata": {},
   "outputs": [],
   "source": []
  },
  {
   "cell_type": "code",
   "execution_count": null,
   "metadata": {},
   "outputs": [],
   "source": []
  }
 ],
 "metadata": {
  "kernelspec": {
   "display_name": "Python 3",
   "language": "python",
   "name": "python3"
  },
  "language_info": {
   "codemirror_mode": {
    "name": "ipython",
    "version": 3
   },
   "file_extension": ".py",
   "mimetype": "text/x-python",
   "name": "python",
   "nbconvert_exporter": "python",
   "pygments_lexer": "ipython3",
   "version": "3.7.1"
  }
 },
 "nbformat": 4,
 "nbformat_minor": 4
}
