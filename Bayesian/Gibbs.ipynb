{
 "cells": [
  {
   "cell_type": "code",
   "execution_count": 41,
   "metadata": {},
   "outputs": [
    {
     "data": {
      "text/html": [
       "<div>\n",
       "<style scoped>\n",
       "    .dataframe tbody tr th:only-of-type {\n",
       "        vertical-align: middle;\n",
       "    }\n",
       "\n",
       "    .dataframe tbody tr th {\n",
       "        vertical-align: top;\n",
       "    }\n",
       "\n",
       "    .dataframe thead th {\n",
       "        text-align: right;\n",
       "    }\n",
       "</style>\n",
       "<table border=\"1\" class=\"dataframe\">\n",
       "  <thead>\n",
       "    <tr style=\"text-align: right;\">\n",
       "      <th></th>\n",
       "      <th>logsales</th>\n",
       "      <th>logprice</th>\n",
       "      <th>display</th>\n",
       "      <th>coupon</th>\n",
       "    </tr>\n",
       "  </thead>\n",
       "  <tbody>\n",
       "    <tr>\n",
       "      <th>count</th>\n",
       "      <td>124.000000</td>\n",
       "      <td>124.000000</td>\n",
       "      <td>124.000000</td>\n",
       "      <td>124.000000</td>\n",
       "    </tr>\n",
       "    <tr>\n",
       "      <th>mean</th>\n",
       "      <td>4.536251</td>\n",
       "      <td>0.296617</td>\n",
       "      <td>0.088710</td>\n",
       "      <td>0.854839</td>\n",
       "    </tr>\n",
       "    <tr>\n",
       "      <th>std</th>\n",
       "      <td>0.256217</td>\n",
       "      <td>0.016849</td>\n",
       "      <td>0.285478</td>\n",
       "      <td>0.353692</td>\n",
       "    </tr>\n",
       "    <tr>\n",
       "      <th>min</th>\n",
       "      <td>3.828641</td>\n",
       "      <td>0.195238</td>\n",
       "      <td>0.000000</td>\n",
       "      <td>0.000000</td>\n",
       "    </tr>\n",
       "    <tr>\n",
       "      <th>25%</th>\n",
       "      <td>4.356709</td>\n",
       "      <td>0.288781</td>\n",
       "      <td>0.000000</td>\n",
       "      <td>1.000000</td>\n",
       "    </tr>\n",
       "    <tr>\n",
       "      <th>50%</th>\n",
       "      <td>4.564348</td>\n",
       "      <td>0.297397</td>\n",
       "      <td>0.000000</td>\n",
       "      <td>1.000000</td>\n",
       "    </tr>\n",
       "    <tr>\n",
       "      <th>75%</th>\n",
       "      <td>4.718499</td>\n",
       "      <td>0.304982</td>\n",
       "      <td>0.000000</td>\n",
       "      <td>1.000000</td>\n",
       "    </tr>\n",
       "    <tr>\n",
       "      <th>max</th>\n",
       "      <td>5.257495</td>\n",
       "      <td>0.330023</td>\n",
       "      <td>1.000000</td>\n",
       "      <td>1.000000</td>\n",
       "    </tr>\n",
       "  </tbody>\n",
       "</table>\n",
       "</div>"
      ],
      "text/plain": [
       "         logsales    logprice     display      coupon\n",
       "count  124.000000  124.000000  124.000000  124.000000\n",
       "mean     4.536251    0.296617    0.088710    0.854839\n",
       "std      0.256217    0.016849    0.285478    0.353692\n",
       "min      3.828641    0.195238    0.000000    0.000000\n",
       "25%      4.356709    0.288781    0.000000    1.000000\n",
       "50%      4.564348    0.297397    0.000000    1.000000\n",
       "75%      4.718499    0.304982    0.000000    1.000000\n",
       "max      5.257495    0.330023    1.000000    1.000000"
      ]
     },
     "execution_count": 41,
     "metadata": {},
     "output_type": "execute_result"
    }
   ],
   "source": [
    "import pandas as pd\n",
    "import numpy as np\n",
    "\n",
    "#Student number is 425288 so brand 88 (B&B, FLSMN, PKY, REST BRAND margarine tube market 3)\n",
    "\n",
    "data = pd.DataFrame({\n",
    "    \"logsales\": pd.read_excel(\"sales.xls\")[\"brand88\"].apply(np.log),\n",
    "    \"logprice\": pd.read_excel(\"price.xls\")[\"brand88\"].apply(np.log),\n",
    "    \"display\": pd.read_excel(\"displ.xls\")[\"brand88\"],\n",
    "    \"coupon\": pd.read_excel(\"coupon.xls\")[\"brand88\"]\n",
    "})\n",
    "\n",
    "data.describe()"
   ]
  },
  {
   "cell_type": "markdown",
   "metadata": {},
   "source": [
    "Frequentist estimation"
   ]
  },
  {
   "cell_type": "code",
   "execution_count": 50,
   "metadata": {},
   "outputs": [
    {
     "name": "stdout",
     "output_type": "stream",
     "text": [
      "R2  0.04064190974068005\n",
      "\n",
      "Coefficients [ 1.57347144  0.14798799 -0.08244147]\n",
      "\n",
      "Intercept 4.126878867987706\n"
     ]
    }
   ],
   "source": [
    "from sklearn.linear_model import LinearRegression\n",
    "\n",
    "y =  data[\"logsales\"]\n",
    "X = data[[\"logprice\", \"display\", \"coupon\"]]\n",
    "\n",
    "reg = LinearRegression().fit(X, y)\n",
    "\n",
    "print(\"R2 \",reg.score(X, y))\n",
    "\n",
    "print(\"\\nCoefficients\",reg.coef_)\n",
    "print(\"\\nIntercept\",reg.intercept_)"
   ]
  }
 ],
 "metadata": {
  "kernelspec": {
   "display_name": "Python 3",
   "language": "python",
   "name": "python3"
  },
  "language_info": {
   "codemirror_mode": {
    "name": "ipython",
    "version": 3
   },
   "file_extension": ".py",
   "mimetype": "text/x-python",
   "name": "python",
   "nbconvert_exporter": "python",
   "pygments_lexer": "ipython3",
   "version": "3.7.1"
  }
 },
 "nbformat": 4,
 "nbformat_minor": 2
}
