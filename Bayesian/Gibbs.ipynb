{
 "cells": [
  {
   "cell_type": "code",
   "execution_count": 69,
   "metadata": {},
   "outputs": [
    {
     "data": {
      "text/html": [
       "<div>\n",
       "<style scoped>\n",
       "    .dataframe tbody tr th:only-of-type {\n",
       "        vertical-align: middle;\n",
       "    }\n",
       "\n",
       "    .dataframe tbody tr th {\n",
       "        vertical-align: top;\n",
       "    }\n",
       "\n",
       "    .dataframe thead th {\n",
       "        text-align: right;\n",
       "    }\n",
       "</style>\n",
       "<table border=\"1\" class=\"dataframe\">\n",
       "  <thead>\n",
       "    <tr style=\"text-align: right;\">\n",
       "      <th></th>\n",
       "      <th>logsales</th>\n",
       "      <th>logprice</th>\n",
       "      <th>display</th>\n",
       "      <th>coupon</th>\n",
       "      <th>intercept</th>\n",
       "    </tr>\n",
       "  </thead>\n",
       "  <tbody>\n",
       "    <tr>\n",
       "      <th>count</th>\n",
       "      <td>124.000000</td>\n",
       "      <td>124.000000</td>\n",
       "      <td>124.000000</td>\n",
       "      <td>124.000000</td>\n",
       "      <td>124.0</td>\n",
       "    </tr>\n",
       "    <tr>\n",
       "      <th>mean</th>\n",
       "      <td>4.536251</td>\n",
       "      <td>0.296617</td>\n",
       "      <td>0.088710</td>\n",
       "      <td>0.854839</td>\n",
       "      <td>1.0</td>\n",
       "    </tr>\n",
       "    <tr>\n",
       "      <th>std</th>\n",
       "      <td>0.256217</td>\n",
       "      <td>0.016849</td>\n",
       "      <td>0.285478</td>\n",
       "      <td>0.353692</td>\n",
       "      <td>0.0</td>\n",
       "    </tr>\n",
       "    <tr>\n",
       "      <th>min</th>\n",
       "      <td>3.828641</td>\n",
       "      <td>0.195238</td>\n",
       "      <td>0.000000</td>\n",
       "      <td>0.000000</td>\n",
       "      <td>1.0</td>\n",
       "    </tr>\n",
       "    <tr>\n",
       "      <th>25%</th>\n",
       "      <td>4.356709</td>\n",
       "      <td>0.288781</td>\n",
       "      <td>0.000000</td>\n",
       "      <td>1.000000</td>\n",
       "      <td>1.0</td>\n",
       "    </tr>\n",
       "    <tr>\n",
       "      <th>50%</th>\n",
       "      <td>4.564348</td>\n",
       "      <td>0.297397</td>\n",
       "      <td>0.000000</td>\n",
       "      <td>1.000000</td>\n",
       "      <td>1.0</td>\n",
       "    </tr>\n",
       "    <tr>\n",
       "      <th>75%</th>\n",
       "      <td>4.718499</td>\n",
       "      <td>0.304982</td>\n",
       "      <td>0.000000</td>\n",
       "      <td>1.000000</td>\n",
       "      <td>1.0</td>\n",
       "    </tr>\n",
       "    <tr>\n",
       "      <th>max</th>\n",
       "      <td>5.257495</td>\n",
       "      <td>0.330023</td>\n",
       "      <td>1.000000</td>\n",
       "      <td>1.000000</td>\n",
       "      <td>1.0</td>\n",
       "    </tr>\n",
       "  </tbody>\n",
       "</table>\n",
       "</div>"
      ],
      "text/plain": [
       "         logsales    logprice     display      coupon  intercept\n",
       "count  124.000000  124.000000  124.000000  124.000000      124.0\n",
       "mean     4.536251    0.296617    0.088710    0.854839        1.0\n",
       "std      0.256217    0.016849    0.285478    0.353692        0.0\n",
       "min      3.828641    0.195238    0.000000    0.000000        1.0\n",
       "25%      4.356709    0.288781    0.000000    1.000000        1.0\n",
       "50%      4.564348    0.297397    0.000000    1.000000        1.0\n",
       "75%      4.718499    0.304982    0.000000    1.000000        1.0\n",
       "max      5.257495    0.330023    1.000000    1.000000        1.0"
      ]
     },
     "execution_count": 69,
     "metadata": {},
     "output_type": "execute_result"
    }
   ],
   "source": [
    "import pandas as pd\n",
    "import numpy as np\n",
    "\n",
    "#Student number is 425288 so brand 88 (B&B, FLSMN, PKY, REST BRAND margarine tube market 3)\n",
    "brand = \"brand88\"\n",
    "\n",
    "data = pd.DataFrame({\n",
    "    \"logsales\": pd.read_excel(\"sales.xls\")[brand].apply(np.log),\n",
    "    \"logprice\": pd.read_excel(\"price.xls\")[brand].apply(np.log),\n",
    "    \"display\": pd.read_excel(\"displ.xls\")[brand],\n",
    "    \"coupon\": pd.read_excel(\"coupon.xls\")[brand]\n",
    "})\n",
    "\n",
    "data[\"intercept\"] = 1\n",
    "\n",
    "y =  data[\"logsales\"]\n",
    "X = data[[\"intercept\", \"logprice\", \"display\", \"coupon\"]]\n",
    "\n",
    "data.describe()"
   ]
  },
  {
   "cell_type": "markdown",
   "metadata": {},
   "source": [
    "Frequentist estimation"
   ]
  },
  {
   "cell_type": "code",
   "execution_count": 93,
   "metadata": {},
   "outputs": [
    {
     "name": "stdout",
     "output_type": "stream",
     "text": [
      "R2  0.04064190974067994\n",
      "\n",
      "Coefficients [ 4.12687887  1.57347144  0.14798799 -0.08244147]\n"
     ]
    }
   ],
   "source": [
    "from sklearn.linear_model import LinearRegression\n",
    "\n",
    "reg = LinearRegression(fit_intercept=False).fit(X, y)\n",
    "\n",
    "print(\"R2 \",reg.score(X, y))\n",
    "\n",
    "print(\"\\nCoefficients\",reg.coef_)"
   ]
  },
  {
   "cell_type": "markdown",
   "metadata": {},
   "source": [
    "Conditional distribution drawing"
   ]
  },
  {
   "cell_type": "code",
   "execution_count": 231,
   "metadata": {},
   "outputs": [],
   "source": [
    "def draw_sigma(X,y,beta):\n",
    "    #N + k\n",
    "    df = len(y)+ len(beta)\n",
    "    \n",
    "    #(y-XB)\n",
    "    e = y - np.dot(X,beta)\n",
    "    \n",
    "    #(y-XB)'(y-XB) + B'B\n",
    "    alpha = np.dot(e.T,e) + np.dot(beta,beta)\n",
    "    \n",
    "    return alpha / np.random.chisquare(df)\n",
    "\n",
    "def draw_beta(X,y,var):\n",
    "    # X'X + I4\n",
    "    inv = np.dot(X.T,X)+np.identity(4)\n",
    "    # (X'X + I4)-1\n",
    "    inv = np.linalg.inv(inv)\n",
    "    \n",
    "    # (X'X + I4)-1 X'y\n",
    "    mean = np.dot(np.dot(inv, X.T) ,y)\n",
    "    \n",
    "    # σ2 (X'X + I4)-1\n",
    "    cov = np.dot(var, inv)\n",
    "    \n",
    "    return np.random.multivariate_normal(mean, cov)"
   ]
  },
  {
   "cell_type": "markdown",
   "metadata": {},
   "source": [
    "Gibbs Sampler"
   ]
  },
  {
   "cell_type": "code",
   "execution_count": null,
   "metadata": {},
   "outputs": [],
   "source": []
  }
 ],
 "metadata": {
  "kernelspec": {
   "display_name": "Python 3",
   "language": "python",
   "name": "python3"
  },
  "language_info": {
   "codemirror_mode": {
    "name": "ipython",
    "version": 3
   },
   "file_extension": ".py",
   "mimetype": "text/x-python",
   "name": "python",
   "nbconvert_exporter": "python",
   "pygments_lexer": "ipython3",
   "version": "3.7.1"
  }
 },
 "nbformat": 4,
 "nbformat_minor": 2
}
